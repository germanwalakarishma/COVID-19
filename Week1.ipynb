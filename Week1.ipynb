{
  "nbformat": 4,
  "nbformat_minor": 0,
  "metadata": {
    "colab": {
      "name": "Worlwidedata.ipynb",
      "provenance": [],
      "collapsed_sections": []
    },
    "kernelspec": {
      "name": "python3",
      "display_name": "Python 3"
    }
  },
  "cells": [
    {
      "cell_type": "code",
      "metadata": {
        "id": "H215CEx-tuH7",
        "colab_type": "code",
        "colab": {}
      },
      "source": [
        "import numpy as np\n",
        "import pandas as pd\n",
        "import requests\n",
        "from bs4 import BeautifulSoup"
      ],
      "execution_count": 0,
      "outputs": []
    },
    {
      "cell_type": "code",
      "metadata": {
        "id": "DxAyeMVvu7d8",
        "colab_type": "code",
        "colab": {}
      },
      "source": [
        "url=\"https://www.worldometers.info/coronavirus/\""
      ],
      "execution_count": 0,
      "outputs": []
    },
    {
      "cell_type": "code",
      "metadata": {
        "id": "aZYzCd04vBxE",
        "colab_type": "code",
        "colab": {
          "base_uri": "https://localhost:8080/",
          "height": 35
        },
        "outputId": "035e7fa2-d6fc-458a-fce6-cdd51b2dc53d"
      },
      "source": [
        "response = requests.get(url)\n",
        "print(response)"
      ],
      "execution_count": 83,
      "outputs": [
        {
          "output_type": "stream",
          "text": [
            "<Response [200]>\n"
          ],
          "name": "stdout"
        }
      ]
    },
    {
      "cell_type": "code",
      "metadata": {
        "id": "ATzMI3g5v7Mt",
        "colab_type": "code",
        "colab": {}
      },
      "source": [
        "soup = BeautifulSoup(response.content,'html.parser')\n",
        "#print(soup.prettify())"
      ],
      "execution_count": 0,
      "outputs": []
    },
    {
      "cell_type": "code",
      "metadata": {
        "id": "ZbD56VMo1Z3H",
        "colab_type": "code",
        "colab": {}
      },
      "source": [
        "class color:\n",
        "   PURPLE = '\\033[95m'\n",
        "   CYAN = '\\033[96m'\n",
        "   DARKCYAN = '\\033[36m'\n",
        "   BLUE = '\\033[94m'\n",
        "   GREEN = '\\033[92m'\n",
        "   YELLOW = '\\033[93m'\n",
        "   RED = '\\033[91m'\n",
        "   BOLD = '\\033[1m'\n",
        "   UNDERLINE = '\\033[4m'\n",
        "   END = '\\033[0m'\n"
      ],
      "execution_count": 0,
      "outputs": []
    },
    {
      "cell_type": "code",
      "metadata": {
        "id": "Tyjyk4W-2Pak",
        "colab_type": "code",
        "colab": {}
      },
      "source": [
        "class Format:\n",
        "    END = '\\033[0m'\n",
        "    UNDERLINE = '\\033[4m'"
      ],
      "execution_count": 0,
      "outputs": []
    },
    {
      "cell_type": "code",
      "metadata": {
        "id": "dV8hTGEiwRJ4",
        "colab_type": "code",
        "colab": {
          "base_uri": "https://localhost:8080/",
          "height": 35
        },
        "outputId": "48086bc5-0a3b-4ef3-8496-0f596a6772ef"
      },
      "source": [
        "def getTitle():\n",
        "  return soup.title\n",
        "\n",
        "getTitle()"
      ],
      "execution_count": 87,
      "outputs": [
        {
          "output_type": "execute_result",
          "data": {
            "text/plain": [
              "<title>Coronavirus Update (Live): 3,308,901 Cases and 234,133 Deaths from COVID-19 Virus Pandemic - Worldometer</title>"
            ]
          },
          "metadata": {
            "tags": []
          },
          "execution_count": 87
        }
      ]
    },
    {
      "cell_type": "code",
      "metadata": {
        "id": "h3AzAlvVwwgD",
        "colab_type": "code",
        "colab": {
          "base_uri": "https://localhost:8080/",
          "height": 156
        },
        "outputId": "7f26abd1-1373-4993-95b2-f25c4185632c"
      },
      "source": [
        "def getTotal_Cases():\n",
        "  worldwide = soup.find_all(id=\"maincounter-wrap\")\n",
        "\n",
        "  print (color.BOLD + Format.UNDERLINE + 'COVID-19 CORONAVIRUS WORLDWIDE DATA' + Format.END + color.END,end='\\n' *2)\n",
        "\n",
        "  for data in worldwide:\n",
        "    h1Data = data.find('h1')\n",
        "    spanData = data.find('span')\n",
        "\n",
        "    if None in (h1Data,spanData):\n",
        "      continue\n",
        "\n",
        "    print(h1Data.text.strip() + ' ' + spanData.text.strip())\n",
        "    print(end='\\n')\n",
        "\n",
        "\n",
        "getTotal_Cases()"
      ],
      "execution_count": 88,
      "outputs": [
        {
          "output_type": "stream",
          "text": [
            "\u001b[1m\u001b[4mCOVID-19 CORONAVIRUS WORLDWIDE DATA\u001b[0m\u001b[0m\n",
            "\n",
            "Coronavirus Cases: 3,308,901\n",
            "\n",
            "Deaths: 234,133\n",
            "\n",
            "Recovered: 1,042,993\n",
            "\n"
          ],
          "name": "stdout"
        }
      ]
    },
    {
      "cell_type": "code",
      "metadata": {
        "id": "NRcUkezaptOK",
        "colab_type": "code",
        "colab": {}
      },
      "source": [
        "def getMainValue(cases):\n",
        "  if (cases.select('div')[0] and cases.select('div')[1]):\n",
        "    caseText1 = cases.select('div')[1].text.strip()\n",
        "    caseValue1 = cases.select('div')[0].text.strip()\n",
        "    print (caseText1 + ': ' + color.BOLD + caseValue1 + color.END,end='\\n' *2)\n",
        "\n",
        "def getLeftSideValue(cases):\n",
        "  if (cases.select('div')[3]):\n",
        "    caseText2 = (cases.select('div')[3]).select('div')\n",
        "    caseValue2 = (cases.select('div')[3]).find(\"span\", class_=\"number-table\")\n",
        "    caseStrongValue2 = (cases.select('div')[3]).find(\"strong\")\n",
        "    print (caseText2[0].text.strip() + ': ' + color.BOLD + color.BLUE + caseValue2.text.strip() + \"(\" + caseStrongValue2.text.strip()+ \"%)\" +color.END,end='\\n' *2)\n",
        "\n",
        "def getRightSideValue(cases):\n",
        "  if (cases.select('div')[5]):  \n",
        "    caseText3 = (cases.select('div')[5]).select('div')\n",
        "    caseValue3 = (cases.select('div')[5]).find(\"span\", class_=\"number-table\")\n",
        "    caseStrongValue3 = (cases.select('div')[5]).find(\"strong\")\n",
        "    print (caseText3[0].text.strip() + ': ' + color.BOLD + color.RED + caseValue3.text.strip() + \"(\" + caseStrongValue3.text.strip() + \"%)\" +color.END,end='\\n' *2)\n",
        "  \n"
      ],
      "execution_count": 0,
      "outputs": []
    },
    {
      "cell_type": "code",
      "metadata": {
        "id": "UNWNIZpKz7Ao",
        "colab_type": "code",
        "colab": {
          "base_uri": "https://localhost:8080/",
          "height": 156
        },
        "outputId": "e9ac0e62-56da-4002-b1a9-bedc380ba6f5"
      },
      "source": [
        "def getActive_Cases():\n",
        "  activeCases=soup.find(\"div\", class_=\"panel_flip\")\n",
        "\n",
        "  print (color.BOLD + Format.UNDERLINE + 'ACTIVE CASES' + Format.END + color.END,end='\\n' *2)\n",
        "\n",
        "  activeData = activeCases.find(\"div\", class_=\"panel_front\")\n",
        "\n",
        "  if not activeData:\n",
        "    return\n",
        "  \n",
        "  if not activeData.select('div'):\n",
        "    return\n",
        " \n",
        "  #get Currently Infected Patients and its value\n",
        "  getMainValue(activeData)\n",
        "  \n",
        "  #get mild condition and its value\n",
        "  getLeftSideValue(activeData)\n",
        "\n",
        "  #get critical condition and its value\n",
        "  getRightSideValue(activeData)\n",
        " \n",
        "\n",
        "getActive_Cases()"
      ],
      "execution_count": 90,
      "outputs": [
        {
          "output_type": "stream",
          "text": [
            "\u001b[1m\u001b[4mACTIVE CASES\u001b[0m\u001b[0m\n",
            "\n",
            "Currently Infected Patients: \u001b[1m2,031,775\u001b[0m\n",
            "\n",
            "in Mild Condition: \u001b[1m\u001b[94m1,980,838(97%)\u001b[0m\n",
            "\n",
            "Serious or Critical: \u001b[1m\u001b[91m50,937(3%)\u001b[0m\n",
            "\n"
          ],
          "name": "stdout"
        }
      ]
    },
    {
      "cell_type": "code",
      "metadata": {
        "id": "ARGXgV7mjqGG",
        "colab_type": "code",
        "colab": {
          "base_uri": "https://localhost:8080/",
          "height": 156
        },
        "outputId": "5ce498fe-79d5-483a-9ec5-4701f586d78c"
      },
      "source": [
        "def getClosed_Cases():\n",
        "  \n",
        "  print (color.BOLD + Format.UNDERLINE + 'CLOSED CASES' + Format.END + color.END,end='\\n' *2)\n",
        "\n",
        "  if (soup.find_all(\"div\", class_=\"panel_flip\") and soup.find_all(\"div\", class_=\"panel_flip\")[1]):\n",
        "    closedCases=soup.find_all(\"div\", class_=\"panel_flip\")[1].select('div.panel_front')\n",
        "\n",
        "  if (not closedCases[0]):\n",
        "    return\n",
        " \n",
        "  #get Outcome Cases and its value\n",
        "  getMainValue(closedCases[0])\n",
        "\n",
        "  #get recovered/discharged cases and its value\n",
        "  getLeftSideValue(closedCases[0])\n",
        "\n",
        "  #get death cases and its value\n",
        "  getRightSideValue(closedCases[0])\n",
        "\n",
        "  \n",
        "getClosed_Cases()"
      ],
      "execution_count": 91,
      "outputs": [
        {
          "output_type": "stream",
          "text": [
            "\u001b[1m\u001b[4mCLOSED CASES\u001b[0m\u001b[0m\n",
            "\n",
            "Cases which had an outcome:: \u001b[1m1,277,126\u001b[0m\n",
            "\n",
            "Recovered / Discharged: \u001b[1m\u001b[94m1,042,993(82%)\u001b[0m\n",
            "\n",
            "Deaths: \u001b[1m\u001b[91m234,133(18%)\u001b[0m\n",
            "\n"
          ],
          "name": "stdout"
        }
      ]
    },
    {
      "cell_type": "code",
      "metadata": {
        "id": "l8i5G5XOGWEp",
        "colab_type": "code",
        "colab": {
          "base_uri": "https://localhost:8080/",
          "height": 936
        },
        "outputId": "64c6cf93-59d6-4000-f5e4-42084340b6a1"
      },
      "source": [
        "def getOverallData():\n",
        "  \n",
        "  coronatable=soup.find(\"table\")\n",
        "\n",
        "  country=[]\n",
        "  total_cases=[]\n",
        "  new_cases=[]\n",
        "  total_deaths=[]\n",
        "  new_deaths=[]\n",
        "  total_recovered=[]\n",
        "  active_cases=[]\n",
        "  serious_cases=[]\n",
        "\n",
        "  rows=coronatable.find_all(\"tr\")[9:-8]\n",
        "\n",
        "  for row in rows:\n",
        "    col=row.find_all(\"td\")\n",
        "    country.append(col[0].text.strip())\n",
        "    total_cases.append(col[1].text.strip())\n",
        "    new_cases.append(col[2].text.strip())\n",
        "    total_deaths.append(col[3].text.strip())\n",
        "    new_deaths.append(col[4].text.strip())\n",
        "    total_recovered.append(col[5].text.strip())\n",
        "    active_cases.append(col[6].text.strip())\n",
        "    serious_cases.append(col[7].text.strip())\n",
        "\n",
        "\n",
        "  df=pd.DataFrame(list(zip(country, total_cases,new_cases,total_deaths,new_deaths,total_recovered,active_cases,serious_cases)), \n",
        "                  columns=[\"Country\",\"Total_Cases\",\"New_Cases\",\"Total_Deaths\",\"New_Deaths\",\"Total_recovered\",\"Active_cases\",\"Serious/Critical_cases\"])\n",
        "\n",
        "  df.replace(r'^\\s*$', np.nan, regex=True, inplace=True)\n",
        "  df.replace(np.nan,0, inplace=True)\n",
        "  print(df.head(50))\n",
        "\n",
        "\n",
        "getOverallData()\n",
        "\n",
        "\n"
      ],
      "execution_count": 92,
      "outputs": [
        {
          "output_type": "stream",
          "text": [
            "               Country Total_Cases  ... Active_cases Serious/Critical_cases\n",
            "0                  USA   1,095,304  ...      875,696                 15,226\n",
            "1                Spain     239,639  ...       77,112                  2,676\n",
            "2                Italy     205,463  ...      101,551                  1,694\n",
            "3                   UK     171,253  ...      144,138                  1,559\n",
            "4               France     167,178  ...       93,326                  4,019\n",
            "5              Germany     163,009  ...       32,886                  2,415\n",
            "6               Turkey     120,204  ...       68,144                  1,514\n",
            "7               Russia     106,498  ...       93,806                  2,300\n",
            "8                 Iran      94,640  ...       13,509                  2,976\n",
            "9               Brazil      87,187  ...       45,246                  8,318\n",
            "10              Canada      53,236  ...       28,629                    557\n",
            "11             Belgium      48,519  ...       29,349                    769\n",
            "12         Netherlands      39,316  ...       34,271                    783\n",
            "13                Peru      36,976  ...       25,520                    651\n",
            "14               India      35,043  ...       24,821                      0\n",
            "15         Switzerland      29,586  ...        4,449                    167\n",
            "16            Portugal      25,045  ...       22,537                    172\n",
            "17             Ecuador      24,934  ...       22,476                    146\n",
            "18        Saudi Arabia      22,753  ...       19,428                    123\n",
            "19              Sweden      21,092  ...       17,501                    531\n",
            "20             Ireland      20,612  ...        5,994                    123\n",
            "21              Mexico      19,224  ...        5,942                    378\n",
            "22            Pakistan      16,817  ...       12,117                    111\n",
            "23           Singapore      16,169  ...       14,910                     21\n",
            "24               Chile      16,023  ...        7,216                    392\n",
            "25              Israel      15,946  ...        7,163                    105\n",
            "26             Austria      15,452  ...        1,961                    128\n",
            "27               Japan      14,088  ...       11,198                    308\n",
            "28             Belarus      14,027  ...       11,552                     92\n",
            "29               Qatar      13,409  ...       12,027                     72\n",
            "30              Poland      12,877  ...        8,997                    160\n",
            "31                 UAE      12,481  ...        9,947                      1\n",
            "32             Romania      12,240  ...        7,506                    221\n",
            "33            S. Korea      10,774  ...        1,454                     55\n",
            "34             Ukraine      10,406  ...        8,907                    138\n",
            "35           Indonesia      10,118  ...        7,804                      0\n",
            "36             Denmark       9,158  ...        2,160                     62\n",
            "37              Serbia       9,009  ...        7,487                     71\n",
            "38         Philippines       8,488  ...        6,877                     31\n",
            "39              Norway       7,738  ...        7,496                     37\n",
            "40             Czechia       7,682  ...        4,132                     68\n",
            "41          Bangladesh       7,667  ...        7,339                      1\n",
            "42  Dominican Republic       6,972  ...        5,370                    144\n",
            "43           Australia       6,766  ...          934                     31\n",
            "44              Panama       6,532  ...        5,768                     86\n",
            "45            Colombia       6,507  ...        4,775                    118\n",
            "46            Malaysia       6,002  ...        1,729                     40\n",
            "47        South Africa       5,647  ...        3,471                     36\n",
            "48               Egypt       5,537  ...        3,764                      0\n",
            "49             Finland       4,995  ...        1,784                     48\n",
            "\n",
            "[50 rows x 8 columns]\n"
          ],
          "name": "stdout"
        }
      ]
    },
    {
      "cell_type": "code",
      "metadata": {
        "id": "25aMilGxHqo_",
        "colab_type": "code",
        "colab": {
          "base_uri": "https://localhost:8080/",
          "height": 208
        },
        "outputId": "ef8d3545-ab24-48de-ec78-24aefdc7262b"
      },
      "source": [
        "bs=BeautifulSoup(response.content, \"lxml\")\n",
        "table_body=bs.find('tbody')\n",
        "rows = table_body.find_all('tr')[8:-8]\n",
        "allData = []\n",
        "for row in rows:\n",
        "  cols=row.find_all('td')\n",
        "  cols=[x.text.strip() for x in cols]\n",
        "  allData.append(cols)\n",
        "\n",
        "#df1 = pd.DataFrame(data=allData, columns= [\"Country\",\"Total_Cases\",\"New_Cases\",\"Total_Deaths\",\"New_Deaths\",\"Total_recovered\",\"Active_cases\",\"Serious/Critical_cases\",\"c9\",\"c10\",\"c11\",\"c12\",\"c13\"])\n",
        "\n",
        "df1 = pd.DataFrame(list(zip(allData[0],allData[1],allData[2],allData[3],allData[4])), columns= [\"Country\",\"Total_Cases\",\"New_Cases\",\"Total_Deaths\",\"New_Deaths\"])\n",
        "print(df1.head(10))"
      ],
      "execution_count": 93,
      "outputs": [
        {
          "output_type": "stream",
          "text": [
            "     Country Total_Cases New_Cases Total_Deaths New_Deaths\n",
            "0        USA       Spain     Italy           UK     France\n",
            "1  1,095,304     239,639   205,463      171,253    167,178\n",
            "2       +281                                              \n",
            "3     63,871      24,543    27,967       26,771     24,376\n",
            "4        +15                                              \n",
            "5    155,737     137,984    75,945          N/A     49,476\n",
            "6    875,696      77,112   101,551      144,138     93,326\n",
            "7     15,226       2,676     1,694        1,559      4,019\n",
            "8      3,309       5,125     3,398        2,523      2,561\n",
            "9        193         525       463          394        373\n"
          ],
          "name": "stdout"
        }
      ]
    },
    {
      "cell_type": "markdown",
      "metadata": {
        "id": "fUsIExBFEWh4",
        "colab_type": "text"
      },
      "source": [
        "**Indian** **Data**"
      ]
    },
    {
      "cell_type": "code",
      "metadata": {
        "id": "9U5TqMoc7MQu",
        "colab_type": "code",
        "colab": {
          "base_uri": "https://localhost:8080/",
          "height": 72
        },
        "outputId": "abf6119d-5d85-41b5-d39d-29f7aa47bdcf"
      },
      "source": [
        "allData1 = []\n",
        "for row in rows:\n",
        "  cols=row.find_all('td')\n",
        "  for x in cols:\n",
        "    if x.text.strip() == 'India':\n",
        "      allData1.append(cols)\n",
        "\n",
        "print(allData1[0])\n",
        "\n"
      ],
      "execution_count": 94,
      "outputs": [
        {
          "output_type": "stream",
          "text": [
            "[<td style=\"font-weight: bold; font-size:15px; text-align:left;\"><a class=\"mt_a\" href=\"country/india/\">India</a></td>, <td style=\"font-weight: bold; text-align:right\">35,043</td>, <td style=\"font-weight: bold; text-align:right;background-color:#FFEEAA;\">+180</td>, <td style=\"font-weight: bold; text-align:right;\">1,154 </td>, <td style=\"font-weight: bold; \n",
            "                                    text-align:right;\"></td>, <td style=\"font-weight: bold; text-align:right\">9,068</td>, <td style=\"text-align:right;font-weight:bold;\">24,821</td>, <td style=\"font-weight: bold; text-align:right\"></td>, <td style=\"font-weight: bold; text-align:right\">25</td>, <td style=\"font-weight: bold; text-align:right\">0.8</td>, <td style=\"font-weight: bold; text-align:right\">902,654</td>, <td style=\"font-weight: bold; text-align:right\">654</td>, <td data-continent=\"Asia\" style=\"display:none\">Asia</td>]\n"
          ],
          "name": "stdout"
        }
      ]
    },
    {
      "cell_type": "code",
      "metadata": {
        "id": "DNayGS2R9G6k",
        "colab_type": "code",
        "colab": {
          "base_uri": "https://localhost:8080/",
          "height": 87
        },
        "outputId": "101cf823-ad30-450f-d645-ad4e9937fe75"
      },
      "source": [
        "def getIndianData():\n",
        "  \n",
        "  coronatable_all=soup.find(\"table\")\n",
        "\n",
        "  country=[]\n",
        "  total_cases=[]\n",
        "  new_cases=[]\n",
        "  total_deaths=[]\n",
        "  new_deaths=[]\n",
        "  total_recovered=[]\n",
        "  active_cases=[]\n",
        "  serious_cases=[]\n",
        "\n",
        "  rows=coronatable_all.find_all(\"tr\")[9:-8]\n",
        "\n",
        "  for row in rows:\n",
        "    col=row.find_all(\"td\")\n",
        "    if col[0].text.strip() == 'India':\n",
        "      country.append(col[0].text.strip())\n",
        "      total_cases.append(col[1].text.strip())\n",
        "      new_cases.append(col[2].text.strip())\n",
        "      total_deaths.append(col[3].text.strip())\n",
        "      new_deaths.append(col[4].text.strip())\n",
        "      total_recovered.append(col[5].text.strip())\n",
        "      active_cases.append(col[6].text.strip())\n",
        "      serious_cases.append(col[7].text.strip())\n",
        "\n",
        "\n",
        "  df=pd.DataFrame(list(zip(country, total_cases,new_cases,total_deaths,new_deaths,total_recovered,active_cases,serious_cases)), \n",
        "                  columns=[\"Country\",\"Total_Cases\",\"New_Cases\",\"Total_Deaths\",\"New_Deaths\",\"Total_recovered\",\"Active_cases\",\"Serious/Critical_cases\"])\n",
        "\n",
        "  df.replace(r'^\\s*$', np.nan, regex=True, inplace=True)\n",
        "  df.replace(np.nan,0, inplace=True)\n",
        "  print(df.head(50))\n",
        "\n",
        "  \n",
        "getIndianData()"
      ],
      "execution_count": 95,
      "outputs": [
        {
          "output_type": "stream",
          "text": [
            "  Country Total_Cases  ... Active_cases Serious/Critical_cases\n",
            "0   India      35,043  ...       24,821                    0.0\n",
            "\n",
            "[1 rows x 8 columns]\n"
          ],
          "name": "stdout"
        }
      ]
    },
    {
      "cell_type": "code",
      "metadata": {
        "id": "5bK172VtEa-R",
        "colab_type": "code",
        "colab": {}
      },
      "source": [
        "indiaUrl=\"https://www.worldometers.info/coronavirus/country/india/\"\n",
        "\n",
        "resp = requests.get(indiaUrl)\n",
        "print(resp)\n",
        "\n",
        "soup = BeautifulSoup(resp.content,'html.parser')\n",
        "print(soup.prettify())"
      ],
      "execution_count": 0,
      "outputs": []
    },
    {
      "cell_type": "code",
      "metadata": {
        "id": "novB4mMzqhmF",
        "colab_type": "code",
        "colab": {
          "base_uri": "https://localhost:8080/",
          "height": 156
        },
        "outputId": "2cf7b089-e216-4122-d119-20895b49e2f6"
      },
      "source": [
        "def getTotal_Cases_for_India():\n",
        "  worldwide = soup.find_all(id=\"maincounter-wrap\")\n",
        "\n",
        "  print (color.BOLD + Format.UNDERLINE + 'COVID-19 CORONAVIRUS INDIAN DATA' + Format.END + color.END,end='\\n' *2)\n",
        "\n",
        "  for data in worldwide:\n",
        "    h1Data = data.find('h1')\n",
        "    spanData = data.find('span')\n",
        "\n",
        "    if None in (h1Data,spanData):\n",
        "      continue\n",
        "\n",
        "    print(h1Data.text.strip() + ' ' + spanData.text.strip())\n",
        "    print(end='\\n')\n",
        "\n",
        "\n",
        "getTotal_Cases_for_India()"
      ],
      "execution_count": 97,
      "outputs": [
        {
          "output_type": "stream",
          "text": [
            "\u001b[1m\u001b[4mCOVID-19 CORONAVIRUS INDIAN DATA\u001b[0m\u001b[0m\n",
            "\n",
            "Coronavirus Cases: 35,043\n",
            "\n",
            "Deaths: 1,154\n",
            "\n",
            "Recovered: 9,068\n",
            "\n"
          ],
          "name": "stdout"
        }
      ]
    },
    {
      "cell_type": "code",
      "metadata": {
        "id": "pNgAIofqq8gd",
        "colab_type": "code",
        "colab": {
          "base_uri": "https://localhost:8080/",
          "height": 156
        },
        "outputId": "a64cd0de-dd75-43ca-f5c1-3dcad72637fd"
      },
      "source": [
        "def getClosed_Cases_for_India():\n",
        "  closedIndianCases=soup.find(\"div\", class_=\"panel_flip\")\n",
        "\n",
        "  print (color.BOLD + Format.UNDERLINE + 'CLOSED CASES' + Format.END + color.END,end='\\n' *2)\n",
        "\n",
        "  closedIndianData = closedIndianCases.find(\"div\", class_=\"panel_front\")\n",
        "\n",
        "  if not closedIndianData:\n",
        "    return\n",
        "  \n",
        "  if not closedIndianData.select('div'):\n",
        "    return\n",
        " \n",
        "  #get Currently Infected Patients and its value\n",
        "  getMainValue(closedIndianData)\n",
        "  \n",
        "  #get mild condition and its value\n",
        "  getLeftSideValue(closedIndianData)\n",
        "\n",
        "  #get critical condition and its value\n",
        "  getRightSideValue(closedIndianData)\n",
        " \n",
        "\n",
        "getClosed_Cases_for_India()"
      ],
      "execution_count": 99,
      "outputs": [
        {
          "output_type": "stream",
          "text": [
            "\u001b[1m\u001b[4mCLOSED CASES\u001b[0m\u001b[0m\n",
            "\n",
            "Cases which had an outcome:: \u001b[1m10,222\u001b[0m\n",
            "\n",
            "Recovered / Discharged: \u001b[1m\u001b[94m9,068(89%)\u001b[0m\n",
            "\n",
            "Deaths: \u001b[1m\u001b[91m1,154(11%)\u001b[0m\n",
            "\n"
          ],
          "name": "stdout"
        }
      ]
    }
  ]
}